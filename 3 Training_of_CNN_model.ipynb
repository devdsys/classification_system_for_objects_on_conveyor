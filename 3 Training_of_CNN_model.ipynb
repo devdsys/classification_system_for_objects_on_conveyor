{
  "nbformat": 4,
  "nbformat_minor": 0,
  "metadata": {
    "colab": {
      "name": "3 Training of CNN model.ipynb",
      "provenance": [],
      "collapsed_sections": [],
      "authorship_tag": "ABX9TyNdTVgQTlBY3iL8OY9+PYyu"
    },
    "kernelspec": {
      "display_name": "Python 3",
      "name": "python3"
    },
    "accelerator": "GPU",
    "gpuClass": "standard"
  },
  "cells": [
    {
      "cell_type": "markdown",
      "metadata": {
        "id": "tA4p8YmFLGEW"
      },
      "source": [
        "Parts of code were taken from this sources:\n",
        "\n",
        "https://towardsdatascience.com/fine-tuning-pre-trained-model-vgg-16-1277268c537f\n",
        "https://github.com/sozykin/dlpython_course/blob/master/computer_vision/cats_and_dogs/cats_and_dogs_cnn.ipynb \n"
      ]
    },
    {
      "cell_type": "code",
      "metadata": {
        "id": "gvF46zeozx7s"
      },
      "source": [
        "# Import of required libraries\n",
        "import tensorflow as tf\n",
        "from tensorflow import keras\n",
        "from tensorflow.keras import layers\n",
        "import numpy as np\n",
        "from tensorflow.keras.preprocessing.image import ImageDataGenerator\n",
        "from tensorflow.keras.models import Sequential\n",
        "from tensorflow.keras.layers import Activation, Dropout, Flatten, Dense, Conv2D, MaxPooling2D\n",
        "from keras.layers import Dense, GlobalAveragePooling2D, Dropout, UpSampling2D, Conv2D, MaxPooling2D\n",
        "import matplotlib.pyplot as plt\n",
        "# For transfer learning\n",
        "import keras\n",
        "from keras.applications.vgg16 import VGG16 \n",
        "from keras.callbacks import ModelCheckpoint\n",
        "from keras.callbacks import ReduceLROnPlateau\n"
      ],
      "execution_count": 1,
      "outputs": []
    },
    {
      "cell_type": "code",
      "metadata": {
        "id": "ajYQKINSjr5R",
        "colab": {
          "base_uri": "https://localhost:8080/"
        },
        "outputId": "0a6d2916-478c-4687-9229-7c62a44c0e8d"
      },
      "source": [
        "# Downloading of a pre-trained VGG16 network without a fully connected layer\n",
        "# and freezing of its parameters to avoid changes during training\n",
        "vgg16_conv = VGG16(weights='imagenet', include_top=False, input_shape=(256, 256, 3))\n",
        "\n",
        "# Freeze four convolution blocks   \n",
        "for layer in vgg16_conv.layers[:15]:\n",
        "    layer.trainable = False\n",
        "# Make sure you have frozen the correct layers\n",
        "for i, layer in enumerate(vgg16_conv.layers):\n",
        "    print(i, layer.name, layer.trainable)\n",
        "# REFERENCE: https://towardsdatascience.com/fine-tuning-pre-trained-model-vgg-16-1277268c537f"
      ],
      "execution_count": 2,
      "outputs": [
        {
          "output_type": "stream",
          "name": "stdout",
          "text": [
            "Downloading data from https://storage.googleapis.com/tensorflow/keras-applications/vgg16/vgg16_weights_tf_dim_ordering_tf_kernels_notop.h5\n",
            "58892288/58889256 [==============================] - 0s 0us/step\n",
            "58900480/58889256 [==============================] - 0s 0us/step\n",
            "0 input_1 False\n",
            "1 block1_conv1 False\n",
            "2 block1_conv2 False\n",
            "3 block1_pool False\n",
            "4 block2_conv1 False\n",
            "5 block2_conv2 False\n",
            "6 block2_pool False\n",
            "7 block3_conv1 False\n",
            "8 block3_conv2 False\n",
            "9 block3_conv3 False\n",
            "10 block3_pool False\n",
            "11 block4_conv1 False\n",
            "12 block4_conv2 False\n",
            "13 block4_conv3 False\n",
            "14 block4_pool False\n",
            "15 block5_conv1 True\n",
            "16 block5_conv2 True\n",
            "17 block5_conv3 True\n",
            "18 block5_pool True\n"
          ]
        }
      ]
    },
    {
      "cell_type": "code",
      "metadata": {
        "colab": {
          "base_uri": "https://localhost:8080/"
        },
        "id": "d1vPR36j0jCp",
        "outputId": "2c1b5c00-1d34-4f3a-f69f-546954febb95"
      },
      "source": [
        "# Connect to Google Drive (which contains dataset)\n",
        "from google.colab import drive\n",
        "drive.mount('/content/gdrive/', force_remount=True)"
      ],
      "execution_count": 3,
      "outputs": [
        {
          "output_type": "stream",
          "name": "stdout",
          "text": [
            "Mounted at /content/gdrive/\n"
          ]
        }
      ]
    },
    {
      "cell_type": "code",
      "metadata": {
        "id": "2D83-I3R1Yk9"
      },
      "source": [
        "# Directory with training dataset\n",
        "train_dir = '/content/gdrive/MyDrive/cv_automation/training_sets/train_set'\n",
        "# Directory with validation dataset\n",
        "val_dir = '/content/gdrive/MyDrive/cv_automation/training_sets/dev_set'\n",
        "# Directory with testing dataset\n",
        "test_dir = '/content/gdrive/MyDrive/cv_automation/training_sets/test_set'\n",
        "# Image width and height (in pixels)\n",
        "img_width, img_height = 256, 256\n",
        "#  Size, channels\n",
        "input_shape = (img_width, img_height, 3)\n",
        "# Quantity of epochs for training\n",
        "epochs = 25\n",
        "# Batch-size\n",
        "batch_size = 200\n",
        "# Quantity of images for training\n",
        "nb_train_samples = 960\n",
        "# Quantity of images for validation\n",
        "nb_validation_samples = 320\n",
        "# Quantity of images for tests\n",
        "nb_test_samples = 320\n",
        "# Number of classes\n",
        "nb_classes = 4\n"
      ],
      "execution_count": 4,
      "outputs": []
    },
    {
      "cell_type": "code",
      "metadata": {
        "id": "n6A8oLuLj4Qn"
      },
      "source": [
        "model = Sequential()  # Defining of sequential model\n",
        "model.add(vgg16_conv) # Using the pre-trained convolutional part of the VGG16 network as the first layer of the model\n",
        "\n",
        "# A part for classification that will be learning to recognize objects based on new own dataset\n",
        "model.add(Flatten()) # A layer for converting an array obtained from a previous layer into a flat vector\n",
        "model.add(Dense(512)) # Fully-connected layer of 512 neurons\n",
        "model.add(Activation('relu')) # ReLU activation function\n",
        "model.add(Dropout(0.5)) # Dropout regularization layer with a neuron exclusion chance of 50%\n",
        "model.add(Dense(128)) # Fully-connected layer of 128 neurons\n",
        "model.add(Activation('relu')) # ReLU activation function\n",
        "model.add(Dense(nb_classes)) # Output layer of 5 classes\n",
        "model.add(Activation('softmax')) # Activation function for multiclass classification"
      ],
      "execution_count": 5,
      "outputs": []
    },
    {
      "cell_type": "code",
      "metadata": {
        "id": "xe7Oks_w-_hG"
      },
      "source": [
        "# Using of Adam optimizer and model compilation\n",
        "\n",
        "from tensorflow.keras.optimizers import Adam \n",
        "optm = tf.keras.optimizers.Adam(\n",
        "    learning_rate=0.0003,\n",
        "    beta_1=0.9,\n",
        "    beta_2=0.999,\n",
        "    epsilon=1e-07,\n",
        "    amsgrad=False,\n",
        "    name=\"Adam\"\n",
        ") \n",
        "\n",
        "model.compile(loss='categorical_crossentropy',\n",
        "              optimizer=optm,\n",
        "              metrics=['accuracy'])\n",
        "\n",
        "\n",
        "\n",
        "lr_reduce = ReduceLROnPlateau(monitor='val_accuracy', factor=0.6, patience=8, verbose=1, mode='max', min_lr=5e-5)\n",
        "# REFERENCE: https://towardsdatascience.com/fine-tuning-pre-trained-model-vgg-16-1277268c537f\n",
        "\n",
        "\n",
        "class MyCallback(tf.keras.callbacks.Callback):\n",
        "  def on_epoch_end(self, epoch, logs={}):\n",
        "    if logs.get('accuracy') > 0.98 and logs.get('val_accuracy')>0.98:\n",
        "      self.model.stop_training = True\n",
        "\n",
        "callback = MyCallback()\n"
      ],
      "execution_count": 13,
      "outputs": []
    },
    {
      "cell_type": "code",
      "metadata": {
        "id": "0bQjYuM03AQt",
        "colab": {
          "base_uri": "https://localhost:8080/"
        },
        "outputId": "c1338659-7685-4772-fee8-20ce471cf5a3"
      },
      "source": [
        "# Using of Keras generators for class division\n",
        "\n",
        "datagen = ImageDataGenerator(rescale=1. / 255)\n",
        "\n",
        "train_generator = datagen.flow_from_directory(\n",
        "    train_dir,\n",
        "    target_size=(256, 256),\n",
        "    batch_size=batch_size,\n",
        "    class_mode='categorical')\n",
        "\n",
        "val_generator = datagen.flow_from_directory(\n",
        "    val_dir,\n",
        "    target_size=(256, 256),\n",
        "    batch_size=batch_size,\n",
        "    class_mode='categorical')\n",
        "\n",
        "test_generator = datagen.flow_from_directory(\n",
        "    test_dir,\n",
        "    target_size=(256, 256),\n",
        "    batch_size=batch_size,\n",
        "    class_mode='categorical')"
      ],
      "execution_count": 14,
      "outputs": [
        {
          "output_type": "stream",
          "name": "stdout",
          "text": [
            "Found 960 images belonging to 4 classes.\n",
            "Found 320 images belonging to 4 classes.\n",
            "Found 320 images belonging to 4 classes.\n"
          ]
        }
      ]
    },
    {
      "cell_type": "code",
      "metadata": {
        "id": "DgBUWndo3Fco",
        "colab": {
          "base_uri": "https://localhost:8080/"
        },
        "outputId": "8418d903-ab83-4b16-d6b2-7ba212f8f9f0"
      },
      "source": [
        "# Start of model training\n",
        "history = model.fit(\n",
        "    train_generator,\n",
        "    steps_per_epoch=nb_train_samples // batch_size,\n",
        "    epochs=epochs,\n",
        "    validation_data=val_generator,\n",
        "    validation_steps=nb_validation_samples // batch_size,\n",
        "    callbacks=[lr_reduce, callback])"
      ],
      "execution_count": 15,
      "outputs": [
        {
          "output_type": "stream",
          "name": "stdout",
          "text": [
            "Epoch 1/25\n",
            "4/4 [==============================] - 10s 2s/step - loss: 0.5483 - accuracy: 0.9303 - val_loss: 0.1035 - val_accuracy: 0.9650 - lr: 3.0000e-04\n",
            "Epoch 2/25\n",
            "4/4 [==============================] - 8s 2s/step - loss: 0.1217 - accuracy: 0.9671 - val_loss: 0.0678 - val_accuracy: 0.9950 - lr: 3.0000e-04\n",
            "Epoch 3/25\n",
            "4/4 [==============================] - 9s 2s/step - loss: 0.0705 - accuracy: 0.9934 - val_loss: 0.0660 - val_accuracy: 0.9800 - lr: 3.0000e-04\n"
          ]
        }
      ]
    },
    {
      "cell_type": "code",
      "source": [
        "# list all data in history\n",
        "print(history.history.keys())\n",
        "# summarize history for accuracy\n",
        "plt.plot(history.history['accuracy'])\n",
        "plt.plot(history.history['val_accuracy'])\n",
        "plt.title('model accuracy')\n",
        "plt.ylabel('accuracy')\n",
        "plt.xlabel('epoch')\n",
        "plt.legend(['train', 'dev'], loc='upper left')\n",
        "plt.show()\n",
        "# summarize history for loss\n",
        "plt.plot(history.history['loss'])\n",
        "plt.plot(history.history['val_loss'])\n",
        "plt.title('model loss')\n",
        "plt.ylabel('loss')\n",
        "plt.xlabel('epoch')\n",
        "plt.legend(['train', 'dev'], loc='upper left')\n",
        "plt.show()\n",
        "\n",
        "#REFERENCE: https://machinelearningmastery.com/display-deep-learning-model-training-history-in-keras/"
      ],
      "metadata": {
        "id": "2RMX-gktvOkF",
        "colab": {
          "base_uri": "https://localhost:8080/",
          "height": 590
        },
        "outputId": "78f04e88-f7e6-48ae-8efc-4d6d405611a6"
      },
      "execution_count": 16,
      "outputs": [
        {
          "output_type": "stream",
          "name": "stdout",
          "text": [
            "dict_keys(['loss', 'accuracy', 'val_loss', 'val_accuracy', 'lr'])\n"
          ]
        },
        {
          "output_type": "display_data",
          "data": {
            "text/plain": [
              "<Figure size 432x288 with 1 Axes>"
            ],
            "image/png": "[encoded data removed]"
          },
          "metadata": {
            "needs_background": "light"
          }
        },
        {
          "output_type": "display_data",
          "data": {
            "text/plain": [
              "<Figure size 432x288 with 1 Axes>"
            ],
            "image/png": "[encoded data removed]"
          },
          "metadata": {
            "needs_background": "light"
          }
        }
      ]
    },
    {
      "cell_type": "code",
      "metadata": {
        "id": "50HxKqulGQfc"
      },
      "source": [
        "# Saving of trained model on disk\n",
        "model.save('/content/gdrive/MyDrive/cv_automation/trained_models/adam_00003_ep25_bs_200.h5')"
      ],
      "execution_count": null,
      "outputs": []
    },
    {
      "cell_type": "code",
      "metadata": {
        "id": "zVjPwJZYMsYJ"
      },
      "source": [
        "# Uploading model from disk\n",
        "from tensorflow.keras.models import load_model\n",
        "model = load_model('gdrive/MyDrive/adam_00003_ep25_bs_200.h5')"
      ],
      "execution_count": null,
      "outputs": []
    },
    {
      "cell_type": "code",
      "metadata": {
        "id": "r0Vs2IytAFBf",
        "colab": {
          "base_uri": "https://localhost:8080/"
        },
        "outputId": "fd9642dc-7d79-4475-8462-8fc5da49068e"
      },
      "source": [
        "model.summary()"
      ],
      "execution_count": 17,
      "outputs": [
        {
          "output_type": "stream",
          "name": "stdout",
          "text": [
            "Model: \"sequential\"\n",
            "_________________________________________________________________\n",
            " Layer (type)                Output Shape              Param #   \n",
            "=================================================================\n",
            " vgg16 (Functional)          (None, 8, 8, 512)         14714688  \n",
            "                                                                 \n",
            " flatten (Flatten)           (None, 32768)             0         \n",
            "                                                                 \n",
            " dense (Dense)               (None, 512)               16777728  \n",
            "                                                                 \n",
            " activation (Activation)     (None, 512)               0         \n",
            "                                                                 \n",
            " dropout (Dropout)           (None, 512)               0         \n",
            "                                                                 \n",
            " dense_1 (Dense)             (None, 128)               65664     \n",
            "                                                                 \n",
            " activation_1 (Activation)   (None, 128)               0         \n",
            "                                                                 \n",
            " dense_2 (Dense)             (None, 4)                 516       \n",
            "                                                                 \n",
            " activation_2 (Activation)   (None, 4)                 0         \n",
            "                                                                 \n",
            "=================================================================\n",
            "Total params: 31,558,596\n",
            "Trainable params: 23,923,332\n",
            "Non-trainable params: 7,635,264\n",
            "_________________________________________________________________\n"
          ]
        }
      ]
    },
    {
      "cell_type": "code",
      "metadata": {
        "id": "BqSVhfI8D879",
        "colab": {
          "base_uri": "https://localhost:8080/"
        },
        "outputId": "e02738ac-01f9-4ebd-a90f-647360d7ecc9"
      },
      "source": [
        "# Evaluating the accuracy of the network using a test generator\n",
        "result = model.evaluate(test_generator)\n",
        "print(\"Accuracy on test dataset: %.2f%%\" % (result[1]*100))"
      ],
      "execution_count": null,
      "outputs": [
        {
          "output_type": "stream",
          "name": "stdout",
          "text": [
            "2/2 [==============================] - 45s 41s/step - loss: 2.2799e-05 - accuracy: 1.0000\n",
            "Accuracy on test dataset: 100.00%\n"
          ]
        }
      ]
    },
    {
      "cell_type": "code",
      "source": [
        "# Convert the model to TensorFlow Lite\n",
        "converter = tf.lite.TFLiteConverter.from_keras_model(model)\n",
        "tflite_model = converter.convert()"
      ],
      "metadata": {
        "id": "6pZzSXGnz5Iu"
      },
      "execution_count": null,
      "outputs": []
    },
    {
      "cell_type": "code",
      "source": [
        "# Save TFLite model\n",
        "with open('/content/gdrive/MyDrive/cv_automation/trained_models/model_adam_v01.tflite', 'wb') as f:\n",
        "  f.write(tflite_model)"
      ],
      "metadata": {
        "id": "zdO9ATZN0YQD"
      },
      "execution_count": null,
      "outputs": []
    }
  ]
}